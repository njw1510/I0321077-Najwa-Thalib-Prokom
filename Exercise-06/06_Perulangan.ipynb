{
 "cells": [
  {
   "cell_type": "markdown",
   "metadata": {},
   "source": [
    "***\n",
    "<h1 align=\"center\">Exercise 06</h1>\n",
    " \n",
    "***\n",
    "## While Loop\n",
    "## Exercise 6.1\n",
    "isilah bagian rumpang berikut. xx diganti tanggal lahir dan yy diganti menjadi bulan lahir. tandanya menyesuaikan yang lebih besar."
   ]
  },
  {
   "cell_type": "code",
   "execution_count": 2,
   "metadata": {},
   "outputs": [
    {
     "name": "stdout",
     "output_type": "stream",
     "text": [
      "Be better than you you were yesterday\n",
      "Be better than you you were yesterday\n",
      "Be better than you you were yesterday\n",
      "Be better than you you were yesterday\n",
      "Be better than you you were yesterday\n",
      "Be better than you you were yesterday\n"
     ]
    }
   ],
   "source": [
    "#menentukan banyak pengulangan\n",
    "n = 15\n",
    "\n",
    "#melakukan pengulangan\n",
    "i = 10\n",
    "\n",
    "while i <= n :\n",
    "    print (\"Be better than you you were yesterday\")\n",
    "    #diisi motto kalian\n",
    "    i = i +1 # sesuaikan dengan atas agar fungsi perulangan dapat berhenti"
   ]
  },
  {
   "cell_type": "markdown",
   "metadata": {},
   "source": [
    "## Exercise 6.2\n",
    "\n",
    "Buatlah code seperti yang dicontohkan pada modul agar user dapat menginputkan sendiri jumlah n yang diinginkan"
   ]
  },
  {
   "cell_type": "code",
   "execution_count": 3,
   "metadata": {},
   "outputs": [
    {
     "name": "stdout",
     "output_type": "stream",
     "text": [
      "10\n",
      "11\n",
      "12\n",
      "13\n",
      "14\n",
      "15\n"
     ]
    }
   ],
   "source": [
    "#Kerjakan disini\n",
    "#menentukan banyak pengulangan\n",
    "#Kerjakan disini\n",
    "n= int(input(\"input nilai n:\"))\n",
    "\n",
    "i = 10\n",
    "\n",
    "while i <= n :\n",
    "    print(i)\n",
    "    i=i+1"
   ]
  },
  {
   "cell_type": "markdown",
   "metadata": {},
   "source": [
    "## Excercise 6.3\n",
    "\n",
    "isilah xx, yy, dan tanda rumpang seperti pada exercise 6.1\n"
   ]
  },
  {
   "cell_type": "code",
   "execution_count": 2,
   "metadata": {},
   "outputs": [
    {
     "name": "stdout",
     "output_type": "stream",
     "text": [
      "Baris ke-15 : Chika\n",
      "Baris ke-16 : Chika\n",
      "Baris ke-17 : Chika\n",
      "Baris ke-18 : Chika\n",
      "Baris ke-19 : Chika\n",
      "Baris ke-20 : Chika\n",
      "Baris ke-21 : Chika\n",
      "Baris ke-22 : Chika\n",
      "Baris ke-23 : Chika\n",
      "Baris ke-24 : Chika\n",
      "Baris ke-25 : Chika\n",
      "Saya membatasi hingga 25 saja\n"
     ]
    }
   ],
   "source": [
    "#melakukan pengulangan\n",
    "#melakukan pengulangan\n",
    "i = 15\n",
    "\n",
    "while i>= 10 :\n",
    "    print (\"Baris ke-%d : Chika\"%i)\n",
    "    if i == 25 :\n",
    "        print(\"Saya membatasi hingga 25 saja\")\n",
    "        break\n",
    "    #isi titik-titik dengan judul film favorit kalian\n",
    "    i = i + 1"
   ]
  },
  {
   "cell_type": "markdown",
   "metadata": {},
   "source": [
    "## FOR LOOP\n",
    "\n",
    "## Exercise 6.4\n",
    "\n",
    "munculkan 3 dari 7 elemen yang berada di dalam list1 dan list2\n"
   ]
  },
  {
   "cell_type": "code",
   "execution_count": 3,
   "metadata": {},
   "outputs": [
    {
     "name": "stdout",
     "output_type": "stream",
     "text": [
      "1 Cake Paris\n",
      "2 Churros Denpasar\n",
      "3 coklat Yogyakarta\n"
     ]
    }
   ],
   "source": [
    "list1 = [\"Cake\",\"Churros\",\"coklat\",\"Maccaron\",\"Donat\",\"Es krim\",\"Permen\"] #masukkan 7 list makanan favorit kalian\n",
    "list2 = [\"Paris\",\"Denpasar\",\"Yogyakarta\",\"Amsterdam\",\"Ubud\",\"Solo\",\"Kyoto\"] #masukkan 7 list kota favorit kalian\n",
    "\n",
    "for i in range(0,3) :\n",
    "    print(i+1,list1[i] ,list2[i])"
   ]
  },
  {
   "cell_type": "markdown",
   "metadata": {},
   "source": [
    "## Perulangan Bersarang\n",
    "\n",
    "## Exercise 6.5"
   ]
  },
  {
   "cell_type": "code",
   "execution_count": 4,
   "metadata": {},
   "outputs": [
    {
     "name": "stdout",
     "output_type": "stream",
     "text": [
      "150 165 180 195 210 225 \n",
      "140 154 168 182 196 \n",
      "130 143 156 169 \n",
      "120 132 144 \n",
      "110 121 \n",
      "100 \n"
     ]
    }
   ],
   "source": [
    "i = 15\n",
    "while i >=10:\n",
    "    j = 10\n",
    "    while j<=i:\n",
    "        print(\"%d \" % (i*j), end = '')\n",
    "        j = j + 1\n",
    "    print()\n",
    "    i-=1"
   ]
  },
  {
   "cell_type": "markdown",
   "metadata": {},
   "source": [
    "## Pernyataan Loncat\n",
    "\n",
    "## Exercise 6.\n",
    "\n",
    "Buatlah fungsi berikut agar muncul angka hingga berhenti sesuai dengan nilai qq\n",
    "qq = angka favorit kalian\n",
    "pp>qq"
   ]
  },
  {
   "cell_type": "code",
   "execution_count": 5,
   "metadata": {},
   "outputs": [
    {
     "name": "stdout",
     "output_type": "stream",
     "text": [
      "0123456789101112131415"
     ]
    }
   ],
   "source": [
    "for i in range(25):\n",
    "    print(i,end='')\n",
    "    if i == 15:\n",
    "        break\n",
    "        ___"
   ]
  },
  {
   "cell_type": "markdown",
   "metadata": {},
   "source": [
    "***\n",
    "<h1 align=\"center\">WELL DONE</h1>\n",
    " \n",
    "***"
   ]
  }
 ],
 "metadata": {
  "interpreter": {
   "hash": "cd08f94adcf3cbae37fe85286256f4c2a10455ca9094fd053e9f3d3f09647223"
  },
  "kernelspec": {
   "display_name": "Python 3.9.7 64-bit",
   "language": "python",
   "name": "python3"
  },
  "language_info": {
   "codemirror_mode": {
    "name": "ipython",
    "version": 3
   },
   "file_extension": ".py",
   "mimetype": "text/x-python",
   "name": "python",
   "nbconvert_exporter": "python",
   "pygments_lexer": "ipython3",
   "version": "3.10.2"
  },
  "orig_nbformat": 4
 },
 "nbformat": 4,
 "nbformat_minor": 2
}
