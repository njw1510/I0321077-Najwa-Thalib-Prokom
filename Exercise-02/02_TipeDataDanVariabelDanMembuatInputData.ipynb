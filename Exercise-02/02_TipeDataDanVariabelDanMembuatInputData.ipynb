{
 "cells": [
  {
   "cell_type": "markdown",
   "metadata": {},
   "source": [
    "# Exercise 2\n",
    "\n",
    "1. Salinlah kode di bawah ini dan isilah titik-titik sesuai dengan perintah yang ada\n",
    "![](./images/02_TipeDataDanVariabel.png)"
   ]
  },
  {
   "cell_type": "code",
   "execution_count": 1,
   "metadata": {},
   "outputs": [
    {
     "name": "stdout",
     "output_type": "stream",
     "text": [
      "Nama lengkap saya adalah Najwa Thalib\n",
      "Nama panggilan saya adalah Najwa Thalib\n",
      "Umur saya saat ini adalah 19\n",
      "Tipe data variabel _umur adalah <class 'int'>\n",
      "Umur saya saat ini adalah sembilan belas tahun\n",
      "Tipe data variabel _umur <class 'str'>\n",
      "Tinggi badan saya adalah 167.5\n",
      "Tipe data variabel tinggi_badan adalah <class 'float'>\n",
      "Saya merupakan mahasiswa angkatan 2021 adalah True\n",
      "Tipe data variabel mahasiswaangkatan2021 adalah <class 'bool'>\n"
     ]
    }
   ],
   "source": [
    "#Kerjakan nomor satu disini\n",
    "Nama = \"Najwa Thalib\"\n",
    "nama = \"Najwa Thalib\"\n",
    "print(\"Nama lengkap saya adalah\", Nama)\n",
    "print(\"Nama panggilan saya adalah\", nama)\n",
    "\n",
    "_umur = 19\n",
    "print(\"Umur saya saat ini adalah\", _umur)\n",
    "print(\"Tipe data variabel _umur adalah\", type(_umur))\n",
    "_umur = \"sembilan belas tahun\"\n",
    "print(\"Umur saya saat ini adalah\", _umur)\n",
    "print(\"Tipe data variabel _umur\", type(_umur))\n",
    "tinggi_badan = 167.5\n",
    "print(\"Tinggi badan saya adalah\", tinggi_badan)\n",
    "print(\"Tipe data variabel tinggi_badan adalah\", type(tinggi_badan))\n",
    "mahasiswaangakatan2021 = True\n",
    "print(\"Saya merupakan mahasiswa angkatan 2021 adalah\", mahasiswaangakatan2021)\n",
    "print(\"Tipe data variabel mahasiswaangkatan2021 adalah\", type(mahasiswaangakatan2021))\n",
    "\n",
    "\n"
   ]
  },
  {
   "cell_type": "markdown",
   "metadata": {},
   "source": [
    "2. Salinlah kode di bawah ini dan isilah titik-titik sesuai dengan perintah yang ada\n",
    "![](./images/02_MembuatInputData.png)"
   ]
  },
  {
   "cell_type": "code",
   "execution_count": 5,
   "metadata": {},
   "outputs": [
    {
     "name": "stdout",
     "output_type": "stream",
     "text": [
      "Program Konversi Panjang dalam Meter ke Berbagai Satuan\n",
      "\n",
      "\n",
      "8 m = 0.008 km\n",
      "8 m = 800 cm\n",
      "8 m = 8000 mm\n",
      "8 m = 8000000 -->m\n",
      "8 m = 8000000000 nm\n",
      "8 m = 314.9606 in\n",
      "8 m = 26.2467 ft\n",
      "8 m = 8.7489 yard\n",
      "8 m = 0.005 mi\n",
      "8 m = 0.0043 nmi\n"
     ]
    }
   ],
   "source": [
    "print(\"Program Konversi Panjang dalam Meter ke Berbagai Satuan\")\n",
    "print(\"\")\n",
    "length = int(input(\"Masukkan nilai panjang dalam meter: \"))\n",
    "feet = length / 0.3048\n",
    "print(\"\")\n",
    "print(length, \"m =\", length / 1000, \"km\") \n",
    "print(length, \"m =\", length * 100, \"cm\") \n",
    "print(length, \"m =\", length * 1000, \"mm\") \n",
    "print(length, \"m =\", length * 1000000, \"-->m\")\n",
    "print(length, \"m =\", length * 1000000000, \"nm\")\n",
    "print(length, \"m =\", round(feet * 12, 4), \"in\")\n",
    "print(length, \"m =\", round (feet, 4), \"ft\")\n",
    "print(length, \"m =\", round(feet / 3, 4), \"yard\")\n",
    "print(length, \"m =\", round(feet / 5280, 4), \"mi\")\n",
    "print(length, \"m =\", round(length / 1852, 4), \"nmi\")\n",
    "\n"
   ]
  },
  {
   "cell_type": "markdown",
   "metadata": {},
   "source": [
    "### Cara Pengumpulan\n",
    "\n",
    "1. Buka *New Terminal*\n",
    "2. Pastikan *path* Terminal adalah folder repositori kalian (NIM-Nama-Prokom).\n",
    "3. Tambahkan file yang akan ditrack dengan `git add <nama file>`. Nama file bisa diubah . (titik) yang artinya semua file dalam folder akan ditrack.\n",
    "4. Lakukan commit perubahan dengan `git commit -m <deskripsi>`.\n",
    "5. Lakukan push dengan `git push -u origin <nama branch>`. Nama branch dapat diketahui dengan `git branch`.\n",
    "6. Pastikan Exercise-02 telah terupload dan dapat diakses di repositori dengan mengaksesnya di browser."
   ]
  }
 ],
 "metadata": {
  "interpreter": {
   "hash": "ac59ebe37160ed0dfa835113d9b8498d9f09ceb179beaac4002f036b9467c963"
  },
  "kernelspec": {
   "display_name": "Python 3.9.8 64-bit",
   "language": "python",
   "name": "python3"
  },
  "language_info": {
   "codemirror_mode": {
    "name": "ipython",
    "version": 3
   },
   "file_extension": ".py",
   "mimetype": "text/x-python",
   "name": "python",
   "nbconvert_exporter": "python",
   "pygments_lexer": "ipython3",
   "version": "3.9.10"
  },
  "orig_nbformat": 4
 },
 "nbformat": 4,
 "nbformat_minor": 2
}
